{
 "cells": [
  {
   "cell_type": "markdown",
   "id": "027a5dce-96ea-435e-8626-d3f7ef81b72e",
   "metadata": {},
   "source": [
    "# Life cycle of machine learning project\n",
    "###  data analysis\n",
    "- Understand the project statement\n",
    "- Data Collection\n",
    "- Data check to perform \n",
    "- Exploraroty data analysis\n",
    "\n",
    "### model development\n",
    "- Understand the project statement\n",
    "- Data Collection\n",
    "- Data Cleaning\n",
    "- feature engineering\n",
    "- Data preprocessing\n",
    "- Model training\n",
    "- Choose the best model\n",
    "### model deployment\n",
    "- structure the code in modular programming\n",
    "- configure the docker image to make the code deployable\n",
    "- deploy the model in aws"
   ]
  },
  {
   "cell_type": "markdown",
   "id": "aaf7908f-1968-4a1a-9a20-a9b03e541dd9",
   "metadata": {},
   "source": [
    "# libraries necesaries"
   ]
  },
  {
   "cell_type": "code",
   "execution_count": 11,
   "id": "ae90eaab-dc27-40a0-9cc3-dcaa7b3f64a8",
   "metadata": {},
   "outputs": [],
   "source": [
    "#data extraction\n",
    "from sqlalchemy import create_engine\n",
    "import pandas as pd\n",
    "import numpy as np\n",
    "\n",
    "#data clearing and preprocessing \n",
    "from sklearn.compose import ColumnTransformer\n",
    "from sklearn.pipeline import Pipeline\n",
    "\n",
    "from sklearn.impute import SimpleImputer\n",
    "from sklearn.preprocessing import OrdinalEncoder\n",
    "from sklearn.preprocessing import OneHotEncoder\n",
    "from sklearn.preprocessing import StandardScaler\n",
    "\n",
    "from sklearn.model_selection import train_test_split\n",
    "\n",
    "#models\n",
    "from sklearn.model_selection import GridSearchCV\n",
    "\n",
    "from xgboost import XGBClassifier\n",
    "from sklearn.linear_model import LogisticRegression\n",
    "from sklearn.neighbors import KNeighborsClassifier\n",
    "from sklearn.ensemble import AdaBoostClassifier\n",
    "\n",
    "#models metrics\n",
    "\n",
    "from sklearn.metrics import accuracy_score\n",
    "from sklearn.metrics import precision_score\n",
    "from sklearn.metrics import recall_score\n",
    "from sklearn.metrics import f1_score\n"
   ]
  },
  {
   "cell_type": "markdown",
   "id": "eff32105-46a8-4245-a3bf-1e22a9fbce33",
   "metadata": {},
   "source": [
    "### 1.0 problem statement"
   ]
  },
  {
   "cell_type": "markdown",
   "id": "b4ed83e4-ff55-4603-bec8-eab2fec9bf82",
   "metadata": {},
   "source": [
    "University X aims to analyze potential grades for students based on their characteristics. Using historical data on students, including fields such as StudentID, Age, Gender, Ethnicity, Parental Education, Weekly Study Time, Absences, Tutoring, Parental Support, Extracurricular Activities, Sports, Music, Volunteering, GPA, and GradeClass, they intend to create a program that can automatically predict GradeClass based on these student attributes. For this purpose, they have hired you to develop the predictive model.\n",
    "\n",
    "dataset url: https://www.kaggle.com/datasets/rabieelkharoua/students-performance-dataset"
   ]
  },
  {
   "cell_type": "markdown",
   "id": "e1dc18c5-438e-4d58-b8cf-080b673bbe59",
   "metadata": {},
   "source": [
    "### 2.0 Data collection"
   ]
  },
  {
   "cell_type": "markdown",
   "id": "acf8e3b2-b2e6-462f-89ee-e049f04870e2",
   "metadata": {},
   "source": [
    "### 2.1 Data extraction from data base"
   ]
  },
  {
   "cell_type": "code",
   "execution_count": 12,
   "id": "ee393503-d7ac-46c7-a45d-a4d4c5064dfe",
   "metadata": {},
   "outputs": [],
   "source": [
    "driver = \"ODBC+Driver+17+for+SQL+Server\"\n",
    "server_name = \"localhost\"\n",
    "database = \"BDdatasets\"\n",
    "UID = \"sa\"\n",
    "PWD = \"0440\"\n",
    "\n",
    "connection_string = f\"mssql+pyodbc://{UID}:{PWD}@{server_name}/{database}?driver={driver}\"\n",
    "\n",
    "engine = create_engine(connection_string)\n",
    "\n",
    "query = \"SELECT * FROM StudentPerformance\"\n",
    "\n",
    "df = pd.read_sql_query( query ,engine )"
   ]
  },
  {
   "cell_type": "markdown",
   "id": "6a17887a-b669-4fb4-92fc-6e16b95783e9",
   "metadata": {},
   "source": [
    "#### 2.2 show top 5 records"
   ]
  },
  {
   "cell_type": "code",
   "execution_count": 13,
   "id": "e57b7d8d-3923-459b-ab3a-f3cce0e033d1",
   "metadata": {},
   "outputs": [
    {
     "data": {
      "text/html": [
       "<div>\n",
       "<style scoped>\n",
       "    .dataframe tbody tr th:only-of-type {\n",
       "        vertical-align: middle;\n",
       "    }\n",
       "\n",
       "    .dataframe tbody tr th {\n",
       "        vertical-align: top;\n",
       "    }\n",
       "\n",
       "    .dataframe thead th {\n",
       "        text-align: right;\n",
       "    }\n",
       "</style>\n",
       "<table border=\"1\" class=\"dataframe\">\n",
       "  <thead>\n",
       "    <tr style=\"text-align: right;\">\n",
       "      <th></th>\n",
       "      <th>StudentID</th>\n",
       "      <th>Age</th>\n",
       "      <th>Gender</th>\n",
       "      <th>Ethnicity</th>\n",
       "      <th>ParentalEducation</th>\n",
       "      <th>StudyTimeWeekly</th>\n",
       "      <th>Absences</th>\n",
       "      <th>Tutoring</th>\n",
       "      <th>ParentalSupport</th>\n",
       "      <th>Extracurricular</th>\n",
       "      <th>Sports</th>\n",
       "      <th>Music</th>\n",
       "      <th>Volunteering</th>\n",
       "      <th>GPA</th>\n",
       "      <th>GradeClass</th>\n",
       "    </tr>\n",
       "  </thead>\n",
       "  <tbody>\n",
       "    <tr>\n",
       "      <th>0</th>\n",
       "      <td>1001</td>\n",
       "      <td>17</td>\n",
       "      <td>Female</td>\n",
       "      <td>Caucasian</td>\n",
       "      <td>Some College</td>\n",
       "      <td>19.833723</td>\n",
       "      <td>7</td>\n",
       "      <td>True</td>\n",
       "      <td>Moderate</td>\n",
       "      <td>False</td>\n",
       "      <td>False</td>\n",
       "      <td>True</td>\n",
       "      <td>False</td>\n",
       "      <td>2.929196</td>\n",
       "      <td>C</td>\n",
       "    </tr>\n",
       "    <tr>\n",
       "      <th>1</th>\n",
       "      <td>1002</td>\n",
       "      <td>18</td>\n",
       "      <td>Male</td>\n",
       "      <td>Caucasian</td>\n",
       "      <td>High School</td>\n",
       "      <td>15.408756</td>\n",
       "      <td>0</td>\n",
       "      <td>False</td>\n",
       "      <td>Low</td>\n",
       "      <td>False</td>\n",
       "      <td>False</td>\n",
       "      <td>False</td>\n",
       "      <td>False</td>\n",
       "      <td>3.042915</td>\n",
       "      <td>B</td>\n",
       "    </tr>\n",
       "    <tr>\n",
       "      <th>2</th>\n",
       "      <td>1003</td>\n",
       "      <td>15</td>\n",
       "      <td>Male</td>\n",
       "      <td>Asian</td>\n",
       "      <td>Bachelor's</td>\n",
       "      <td>4.210570</td>\n",
       "      <td>26</td>\n",
       "      <td>False</td>\n",
       "      <td>Moderate</td>\n",
       "      <td>False</td>\n",
       "      <td>False</td>\n",
       "      <td>False</td>\n",
       "      <td>False</td>\n",
       "      <td>0.112602</td>\n",
       "      <td>F</td>\n",
       "    </tr>\n",
       "    <tr>\n",
       "      <th>3</th>\n",
       "      <td>1004</td>\n",
       "      <td>17</td>\n",
       "      <td>Female</td>\n",
       "      <td>Caucasian</td>\n",
       "      <td>Bachelor's</td>\n",
       "      <td>10.028830</td>\n",
       "      <td>14</td>\n",
       "      <td>False</td>\n",
       "      <td>High</td>\n",
       "      <td>True</td>\n",
       "      <td>False</td>\n",
       "      <td>False</td>\n",
       "      <td>False</td>\n",
       "      <td>2.054218</td>\n",
       "      <td>D</td>\n",
       "    </tr>\n",
       "    <tr>\n",
       "      <th>4</th>\n",
       "      <td>1005</td>\n",
       "      <td>17</td>\n",
       "      <td>Female</td>\n",
       "      <td>Caucasian</td>\n",
       "      <td>Some College</td>\n",
       "      <td>4.672495</td>\n",
       "      <td>17</td>\n",
       "      <td>True</td>\n",
       "      <td>High</td>\n",
       "      <td>False</td>\n",
       "      <td>False</td>\n",
       "      <td>False</td>\n",
       "      <td>False</td>\n",
       "      <td>1.288061</td>\n",
       "      <td>F</td>\n",
       "    </tr>\n",
       "  </tbody>\n",
       "</table>\n",
       "</div>"
      ],
      "text/plain": [
       "   StudentID  Age  Gender  Ethnicity ParentalEducation  StudyTimeWeekly  \\\n",
       "0       1001   17  Female  Caucasian      Some College        19.833723   \n",
       "1       1002   18    Male  Caucasian       High School        15.408756   \n",
       "2       1003   15    Male      Asian        Bachelor's         4.210570   \n",
       "3       1004   17  Female  Caucasian        Bachelor's        10.028830   \n",
       "4       1005   17  Female  Caucasian      Some College         4.672495   \n",
       "\n",
       "   Absences  Tutoring ParentalSupport  Extracurricular  Sports  Music  \\\n",
       "0         7      True        Moderate            False   False   True   \n",
       "1         0     False             Low            False   False  False   \n",
       "2        26     False        Moderate            False   False  False   \n",
       "3        14     False            High             True   False  False   \n",
       "4        17      True            High            False   False  False   \n",
       "\n",
       "   Volunteering       GPA GradeClass  \n",
       "0         False  2.929196          C  \n",
       "1         False  3.042915          B  \n",
       "2         False  0.112602          F  \n",
       "3         False  2.054218          D  \n",
       "4         False  1.288061          F  "
      ]
     },
     "execution_count": 13,
     "metadata": {},
     "output_type": "execute_result"
    }
   ],
   "source": [
    "df.head()"
   ]
  },
  {
   "cell_type": "markdown",
   "id": "1816e964-a330-4243-b323-768b122324ba",
   "metadata": {},
   "source": [
    "#### 2.3 check if there is null values"
   ]
  },
  {
   "cell_type": "code",
   "execution_count": 14,
   "id": "8f575585-9f9f-4c81-849f-4580bf66b492",
   "metadata": {},
   "outputs": [
    {
     "data": {
      "text/plain": [
       "StudentID            0\n",
       "Age                  0\n",
       "Gender               0\n",
       "Ethnicity            0\n",
       "ParentalEducation    0\n",
       "StudyTimeWeekly      0\n",
       "Absences             0\n",
       "Tutoring             0\n",
       "ParentalSupport      0\n",
       "Extracurricular      0\n",
       "Sports               0\n",
       "Music                0\n",
       "Volunteering         0\n",
       "GPA                  0\n",
       "GradeClass           0\n",
       "dtype: int64"
      ]
     },
     "execution_count": 14,
     "metadata": {},
     "output_type": "execute_result"
    }
   ],
   "source": [
    "df.isnull().sum()"
   ]
  },
  {
   "cell_type": "markdown",
   "id": "d4e0981d-9ae5-47b3-8c6e-36e8f387e7ea",
   "metadata": {},
   "source": [
    "### 3.0 data cleaning "
   ]
  },
  {
   "cell_type": "markdown",
   "id": "90b85ffe-3583-472f-afc7-efc963fdb95e",
   "metadata": {},
   "source": [
    "#### 3.1 setting bool column as int"
   ]
  },
  {
   "cell_type": "code",
   "execution_count": 23,
   "id": "92693b93-ed99-4104-9cce-a18d51356f0e",
   "metadata": {},
   "outputs": [],
   "source": [
    "bool_columns = df.select_dtypes(include = [\"bool\"]).columns\n",
    "df[bool_columns]  = df[bool_columns].astype(int)"
   ]
  },
  {
   "cell_type": "markdown",
   "id": "e03a68a6-94b0-4477-a055-dfd548692a86",
   "metadata": {},
   "source": [
    "#### 3.1 setting nominal, ordinal , numerical columns"
   ]
  },
  {
   "cell_type": "code",
   "execution_count": 93,
   "id": "cd6c7402-d881-4dd8-89e6-df482c956459",
   "metadata": {},
   "outputs": [],
   "source": [
    "label = [\"GradeClass\"]\n",
    "\n",
    "numerical_columns = ['Age', 'StudyTimeWeekly', 'Absences']\n",
    "\n",
    "nominal_columns = [ \"Gender\" ,\"Ethnicity\" ]\n",
    "\n",
    "ordinal_columns = [ 'ParentalEducation',  'ParentalSupport', \n",
    "                 \"Tutoring\" , 'Extracurricular', 'Sports', 'Music', 'Volunteering' ]\n",
    "\n",
    "\n",
    "categorical_columns = nominal_columns + ordinal_columns "
   ]
  },
  {
   "cell_type": "markdown",
   "id": "4ba07f87-ea65-40ad-b157-60eda8f932b0",
   "metadata": {},
   "source": [
    "#### 3.2 setting ordinal column values"
   ]
  },
  {
   "cell_type": "code",
   "execution_count": 198,
   "id": "e7678b80-2314-4780-9d74-e54012499eab",
   "metadata": {},
   "outputs": [],
   "source": [
    "ordinal_columns_values = [\n",
    "    ['None', 'High School', 'Some College', \"Bachelor's\", 'Higher'],  # ParentalEducation \n",
    "    ['None', 'Low', 'Moderate', 'High', 'Very High'] , \n",
    "    \n",
    "]"
   ]
  },
  {
   "cell_type": "markdown",
   "id": "cc08fce5-f887-4d14-980d-e7694c4e7b0e",
   "metadata": {},
   "source": [
    "#### 3.3 setting X and y"
   ]
  },
  {
   "cell_type": "code",
   "execution_count": 109,
   "id": "8d51c6c0-0ac7-4178-b47a-62e82d1faa18",
   "metadata": {},
   "outputs": [],
   "source": [
    "X = df.drop(columns = [ \"StudentID\", \"GPA\" , \"GradeClass\"])\n",
    "y = df[[\"GradeClass\"]]"
   ]
  },
  {
   "cell_type": "markdown",
   "id": "37ed2baa-b598-4e8a-a054-ea7172a87560",
   "metadata": {},
   "source": [
    "#### 3.4 making cleaning pipeline"
   ]
  },
  {
   "cell_type": "code",
   "execution_count": 110,
   "id": "135d521e-c498-4c5c-ba70-f1bd6246bbbd",
   "metadata": {},
   "outputs": [],
   "source": [
    "cleaning_pipeline = ColumnTransformer(\n",
    "    [\n",
    "         (\"categorical_imputer\" , SimpleImputer(strategy = \"most_frequent\") , categorical_columns ),\n",
    "         (\"numerical_imputer\" , SimpleImputer(strategy = \"mean\") , numerical_columns)\n",
    "    ]\n",
    ")"
   ]
  },
  {
   "cell_type": "code",
   "execution_count": 186,
   "id": "b6ee8100-a025-4991-abe2-3527b4b64b4b",
   "metadata": {},
   "outputs": [],
   "source": [
    "X_cleaned = pd.DataFrame(cleaning_pipeline.fit_transform(X) , columns = categorical_columns + numerical_columns)"
   ]
  },
  {
   "cell_type": "code",
   "execution_count": 187,
   "id": "fcad1c15-425f-4d7f-9ed2-61ab104cf2eb",
   "metadata": {},
   "outputs": [
    {
     "data": {
      "text/html": [
       "<div>\n",
       "<style scoped>\n",
       "    .dataframe tbody tr th:only-of-type {\n",
       "        vertical-align: middle;\n",
       "    }\n",
       "\n",
       "    .dataframe tbody tr th {\n",
       "        vertical-align: top;\n",
       "    }\n",
       "\n",
       "    .dataframe thead th {\n",
       "        text-align: right;\n",
       "    }\n",
       "</style>\n",
       "<table border=\"1\" class=\"dataframe\">\n",
       "  <thead>\n",
       "    <tr style=\"text-align: right;\">\n",
       "      <th></th>\n",
       "      <th>Gender</th>\n",
       "      <th>Ethnicity</th>\n",
       "      <th>ParentalEducation</th>\n",
       "      <th>ParentalSupport</th>\n",
       "      <th>Tutoring</th>\n",
       "      <th>Extracurricular</th>\n",
       "      <th>Sports</th>\n",
       "      <th>Music</th>\n",
       "      <th>Volunteering</th>\n",
       "      <th>Age</th>\n",
       "      <th>StudyTimeWeekly</th>\n",
       "      <th>Absences</th>\n",
       "    </tr>\n",
       "  </thead>\n",
       "  <tbody>\n",
       "    <tr>\n",
       "      <th>0</th>\n",
       "      <td>Female</td>\n",
       "      <td>Caucasian</td>\n",
       "      <td>Some College</td>\n",
       "      <td>Moderate</td>\n",
       "      <td>1</td>\n",
       "      <td>0</td>\n",
       "      <td>0</td>\n",
       "      <td>1</td>\n",
       "      <td>0</td>\n",
       "      <td>17.0</td>\n",
       "      <td>19.833723</td>\n",
       "      <td>7.0</td>\n",
       "    </tr>\n",
       "  </tbody>\n",
       "</table>\n",
       "</div>"
      ],
      "text/plain": [
       "   Gender  Ethnicity ParentalEducation ParentalSupport Tutoring  \\\n",
       "0  Female  Caucasian      Some College        Moderate        1   \n",
       "\n",
       "  Extracurricular Sports Music Volunteering   Age StudyTimeWeekly Absences  \n",
       "0               0      0     1            0  17.0       19.833723      7.0  "
      ]
     },
     "execution_count": 187,
     "metadata": {},
     "output_type": "execute_result"
    }
   ],
   "source": [
    "X_cleaned.head(1)"
   ]
  },
  {
   "cell_type": "markdown",
   "id": "4094363e-23d5-4072-bf07-e0d66bbfa33f",
   "metadata": {},
   "source": [
    "#### 4.0 Feature enginerring "
   ]
  },
  {
   "cell_type": "code",
   "execution_count": 194,
   "id": "102ed355-e46c-43d0-9dcc-0773a422d29c",
   "metadata": {},
   "outputs": [],
   "source": [
    "new_num_columns = [\"extra_activities_studies\" , \"extra_activities_no_studies\"]\n",
    "X_cleaned[\"extra_activities_studies\"] = X_cleaned[\"Tutoring\"] + X_cleaned[\"Extracurricular\"]\n",
    "X_cleaned[\"extra_activities_no_studies\"] = X_cleaned[\"Sports\"] + X_cleaned[\"Music\"] + X_cleaned[\"Volunteering\"]\n",
    "X_cleaned = X_cleaned.drop(columns = [\"Tutoring\" , \"Extracurricular\" , \"Sports\" , \"Music\" , \"Volunteering\"])"
   ]
  },
  {
   "cell_type": "code",
   "execution_count": 195,
   "id": "a7392b43-9af1-4a6a-bd2c-0bc01b3e015e",
   "metadata": {},
   "outputs": [
    {
     "data": {
      "text/html": [
       "<div>\n",
       "<style scoped>\n",
       "    .dataframe tbody tr th:only-of-type {\n",
       "        vertical-align: middle;\n",
       "    }\n",
       "\n",
       "    .dataframe tbody tr th {\n",
       "        vertical-align: top;\n",
       "    }\n",
       "\n",
       "    .dataframe thead th {\n",
       "        text-align: right;\n",
       "    }\n",
       "</style>\n",
       "<table border=\"1\" class=\"dataframe\">\n",
       "  <thead>\n",
       "    <tr style=\"text-align: right;\">\n",
       "      <th></th>\n",
       "      <th>Gender</th>\n",
       "      <th>Ethnicity</th>\n",
       "      <th>ParentalEducation</th>\n",
       "      <th>ParentalSupport</th>\n",
       "      <th>Age</th>\n",
       "      <th>StudyTimeWeekly</th>\n",
       "      <th>Absences</th>\n",
       "      <th>extra_activities_studies</th>\n",
       "      <th>extra_activities_no_studies</th>\n",
       "    </tr>\n",
       "  </thead>\n",
       "  <tbody>\n",
       "    <tr>\n",
       "      <th>0</th>\n",
       "      <td>Female</td>\n",
       "      <td>Caucasian</td>\n",
       "      <td>Some College</td>\n",
       "      <td>Moderate</td>\n",
       "      <td>17.0</td>\n",
       "      <td>19.833723</td>\n",
       "      <td>7.0</td>\n",
       "      <td>1</td>\n",
       "      <td>1</td>\n",
       "    </tr>\n",
       "    <tr>\n",
       "      <th>1</th>\n",
       "      <td>Male</td>\n",
       "      <td>Caucasian</td>\n",
       "      <td>High School</td>\n",
       "      <td>Low</td>\n",
       "      <td>18.0</td>\n",
       "      <td>15.408756</td>\n",
       "      <td>0.0</td>\n",
       "      <td>0</td>\n",
       "      <td>0</td>\n",
       "    </tr>\n",
       "    <tr>\n",
       "      <th>2</th>\n",
       "      <td>Male</td>\n",
       "      <td>Asian</td>\n",
       "      <td>Bachelor's</td>\n",
       "      <td>Moderate</td>\n",
       "      <td>15.0</td>\n",
       "      <td>4.21057</td>\n",
       "      <td>26.0</td>\n",
       "      <td>0</td>\n",
       "      <td>0</td>\n",
       "    </tr>\n",
       "    <tr>\n",
       "      <th>3</th>\n",
       "      <td>Female</td>\n",
       "      <td>Caucasian</td>\n",
       "      <td>Bachelor's</td>\n",
       "      <td>High</td>\n",
       "      <td>17.0</td>\n",
       "      <td>10.02883</td>\n",
       "      <td>14.0</td>\n",
       "      <td>1</td>\n",
       "      <td>0</td>\n",
       "    </tr>\n",
       "    <tr>\n",
       "      <th>4</th>\n",
       "      <td>Female</td>\n",
       "      <td>Caucasian</td>\n",
       "      <td>Some College</td>\n",
       "      <td>High</td>\n",
       "      <td>17.0</td>\n",
       "      <td>4.672495</td>\n",
       "      <td>17.0</td>\n",
       "      <td>1</td>\n",
       "      <td>0</td>\n",
       "    </tr>\n",
       "    <tr>\n",
       "      <th>...</th>\n",
       "      <td>...</td>\n",
       "      <td>...</td>\n",
       "      <td>...</td>\n",
       "      <td>...</td>\n",
       "      <td>...</td>\n",
       "      <td>...</td>\n",
       "      <td>...</td>\n",
       "      <td>...</td>\n",
       "      <td>...</td>\n",
       "    </tr>\n",
       "    <tr>\n",
       "      <th>2387</th>\n",
       "      <td>Female</td>\n",
       "      <td>Caucasian</td>\n",
       "      <td>Bachelor's</td>\n",
       "      <td>Very High</td>\n",
       "      <td>18.0</td>\n",
       "      <td>10.680554</td>\n",
       "      <td>2.0</td>\n",
       "      <td>1</td>\n",
       "      <td>0</td>\n",
       "    </tr>\n",
       "    <tr>\n",
       "      <th>2388</th>\n",
       "      <td>Male</td>\n",
       "      <td>Caucasian</td>\n",
       "      <td>High School</td>\n",
       "      <td>Very High</td>\n",
       "      <td>17.0</td>\n",
       "      <td>7.583217</td>\n",
       "      <td>4.0</td>\n",
       "      <td>1</td>\n",
       "      <td>1</td>\n",
       "    </tr>\n",
       "    <tr>\n",
       "      <th>2389</th>\n",
       "      <td>Female</td>\n",
       "      <td>Caucasian</td>\n",
       "      <td>Some College</td>\n",
       "      <td>Moderate</td>\n",
       "      <td>16.0</td>\n",
       "      <td>6.8055</td>\n",
       "      <td>20.0</td>\n",
       "      <td>0</td>\n",
       "      <td>1</td>\n",
       "    </tr>\n",
       "    <tr>\n",
       "      <th>2390</th>\n",
       "      <td>Female</td>\n",
       "      <td>African American</td>\n",
       "      <td>None</td>\n",
       "      <td>Moderate</td>\n",
       "      <td>16.0</td>\n",
       "      <td>12.416653</td>\n",
       "      <td>17.0</td>\n",
       "      <td>0</td>\n",
       "      <td>2</td>\n",
       "    </tr>\n",
       "    <tr>\n",
       "      <th>2391</th>\n",
       "      <td>Female</td>\n",
       "      <td>Caucasian</td>\n",
       "      <td>Some College</td>\n",
       "      <td>Moderate</td>\n",
       "      <td>16.0</td>\n",
       "      <td>17.819908</td>\n",
       "      <td>13.0</td>\n",
       "      <td>0</td>\n",
       "      <td>1</td>\n",
       "    </tr>\n",
       "  </tbody>\n",
       "</table>\n",
       "<p>2392 rows × 9 columns</p>\n",
       "</div>"
      ],
      "text/plain": [
       "      Gender         Ethnicity ParentalEducation ParentalSupport   Age  \\\n",
       "0     Female         Caucasian      Some College        Moderate  17.0   \n",
       "1       Male         Caucasian       High School             Low  18.0   \n",
       "2       Male             Asian        Bachelor's        Moderate  15.0   \n",
       "3     Female         Caucasian        Bachelor's            High  17.0   \n",
       "4     Female         Caucasian      Some College            High  17.0   \n",
       "...      ...               ...               ...             ...   ...   \n",
       "2387  Female         Caucasian        Bachelor's       Very High  18.0   \n",
       "2388    Male         Caucasian       High School       Very High  17.0   \n",
       "2389  Female         Caucasian      Some College        Moderate  16.0   \n",
       "2390  Female  African American              None        Moderate  16.0   \n",
       "2391  Female         Caucasian      Some College        Moderate  16.0   \n",
       "\n",
       "     StudyTimeWeekly Absences extra_activities_studies  \\\n",
       "0          19.833723      7.0                        1   \n",
       "1          15.408756      0.0                        0   \n",
       "2            4.21057     26.0                        0   \n",
       "3           10.02883     14.0                        1   \n",
       "4           4.672495     17.0                        1   \n",
       "...              ...      ...                      ...   \n",
       "2387       10.680554      2.0                        1   \n",
       "2388        7.583217      4.0                        1   \n",
       "2389          6.8055     20.0                        0   \n",
       "2390       12.416653     17.0                        0   \n",
       "2391       17.819908     13.0                        0   \n",
       "\n",
       "     extra_activities_no_studies  \n",
       "0                              1  \n",
       "1                              0  \n",
       "2                              0  \n",
       "3                              0  \n",
       "4                              0  \n",
       "...                          ...  \n",
       "2387                           0  \n",
       "2388                           1  \n",
       "2389                           1  \n",
       "2390                           2  \n",
       "2391                           1  \n",
       "\n",
       "[2392 rows x 9 columns]"
      ]
     },
     "execution_count": 195,
     "metadata": {},
     "output_type": "execute_result"
    }
   ],
   "source": [
    "X_cleaned"
   ]
  },
  {
   "cell_type": "markdown",
   "id": "9ecff22d-fd11-4f67-b272-2d9063d09385",
   "metadata": {},
   "source": [
    "### 5.0 Data preprocessing"
   ]
  },
  {
   "cell_type": "markdown",
   "id": "373df48c-d31b-422e-9a40-94b05d6ff051",
   "metadata": {},
   "source": [
    "#### 5.1 make the preprocessor"
   ]
  },
  {
   "cell_type": "code",
   "execution_count": 199,
   "id": "0ac201ca-e812-4e12-bf98-a54eb66cbc32",
   "metadata": {},
   "outputs": [],
   "source": [
    "\n",
    "numerical_columns = ['Age', 'StudyTimeWeekly', 'Absences'] + new_num_columns\n",
    "\n",
    "nominal_columns = [ \"Gender\" ,\"Ethnicity\" ]\n",
    "\n",
    "ordinal_columns = [ 'ParentalEducation',  'ParentalSupport']\n",
    "\n",
    "\n",
    "cat_nominal_preprocessing_steps = Pipeline(\n",
    "    steps = [\n",
    "        (\"one_hot_encoder_steps\" , OneHotEncoder())\n",
    "    ]\n",
    ")\n",
    "\n",
    "cat_ordinal_preprocessing_steps = Pipeline(\n",
    "    steps =  [\n",
    "        (\"ordinal_encoder_steps\" , OrdinalEncoder(categories =  ordinal_columns_values )  ) , \n",
    "        (\"ordinal_scaler\" , StandardScaler())\n",
    "    ]\n",
    ")\n",
    "\n",
    "num_preprocessing_steps = Pipeline(\n",
    "    steps = [\n",
    "        (\"standard_scaler_steps\" , StandardScaler())\n",
    "    ]\n",
    ")\n",
    "\n",
    "preprocessor = ColumnTransformer(\n",
    "    [\n",
    "        (\"cat_nominal_preprocessor\" ,cat_nominal_preprocessing_steps ,nominal_columns  ), \n",
    "        (\"cat_ordinal_preprocessor\",   cat_ordinal_preprocessing_steps, ordinal_columns),\n",
    "        (\"num_preprocessor\" , num_preprocessing_steps , numerical_columns )\n",
    "    ]\n",
    ")\n"
   ]
  },
  {
   "cell_type": "code",
   "execution_count": 211,
   "id": "081003d5-aa99-474f-ad8a-9922ae67f932",
   "metadata": {},
   "outputs": [],
   "source": [
    "X_preprocessed = preprocessor.fit_transform(X_cleaned)"
   ]
  },
  {
   "cell_type": "code",
   "execution_count": 212,
   "id": "f9b491e7-bec8-4f4c-978d-ba946832c074",
   "metadata": {},
   "outputs": [
    {
     "data": {
      "text/plain": [
       "(2392, 13)"
      ]
     },
     "execution_count": 212,
     "metadata": {},
     "output_type": "execute_result"
    }
   ],
   "source": [
    "X_preprocessed.shape"
   ]
  },
  {
   "cell_type": "markdown",
   "id": "238fecce-d00e-4a65-a157-bd06ad82615a",
   "metadata": {},
   "source": [
    "### 5.2 Making the label preprocessor"
   ]
  },
  {
   "cell_type": "code",
   "execution_count": 213,
   "id": "731eedcd-27af-42d4-b822-ccec7abd2546",
   "metadata": {},
   "outputs": [],
   "source": [
    "label_values = [[\"F\" , \"D\" , \"C\" , \"B\" , \"A\"]]\n",
    "label_encoder = OrdinalEncoder(categories = label_values )"
   ]
  },
  {
   "cell_type": "code",
   "execution_count": 214,
   "id": "8f786fd8-9ef0-49c4-ac00-9fda1fe3b758",
   "metadata": {},
   "outputs": [],
   "source": [
    "y_preprocessed = label_encoder.fit_transform(y)[: ,0 ]"
   ]
  },
  {
   "cell_type": "code",
   "execution_count": 215,
   "id": "77fec55e-02ef-4bb6-b729-069dec416c18",
   "metadata": {},
   "outputs": [
    {
     "data": {
      "text/plain": [
       "(2392,)"
      ]
     },
     "execution_count": 215,
     "metadata": {},
     "output_type": "execute_result"
    }
   ],
   "source": [
    "y_preprocessed.shape"
   ]
  },
  {
   "cell_type": "markdown",
   "id": "36c2f7c0-8fab-4551-bdd1-0ec0dd9f0d85",
   "metadata": {},
   "source": [
    "### 5.3 dividing the dataset"
   ]
  },
  {
   "cell_type": "code",
   "execution_count": 216,
   "id": "08cfd260-d8da-4e70-bfcc-1355d93684df",
   "metadata": {},
   "outputs": [],
   "source": [
    "X_train , X_test , y_train , y_test =  train_test_split(X_transformed , y_preprocessed , test_size =  0.1 , random_state = 42)"
   ]
  },
  {
   "cell_type": "code",
   "execution_count": 217,
   "id": "825d8230-dfd0-4366-aec8-618f1a9435cf",
   "metadata": {},
   "outputs": [
    {
     "data": {
      "text/plain": [
       "((2152, 16), (240, 16))"
      ]
     },
     "execution_count": 217,
     "metadata": {},
     "output_type": "execute_result"
    }
   ],
   "source": [
    "X_train.shape , X_test.shape"
   ]
  },
  {
   "cell_type": "markdown",
   "id": "0f78559d-71b0-4221-a9fd-8d54e9316d29",
   "metadata": {},
   "source": [
    "### 6.0 Model training"
   ]
  },
  {
   "cell_type": "markdown",
   "id": "5c9b0121-d89e-4cf4-9135-25fc7c9e356c",
   "metadata": {},
   "source": [
    "#### 6.1 defining evaluating function"
   ]
  },
  {
   "cell_type": "code",
   "execution_count": 218,
   "id": "59fcb2a5-c412-4a4c-bde5-45b4d95faa01",
   "metadata": {},
   "outputs": [],
   "source": [
    "def evaluate_model(y_true,  y_pred):\n",
    "    accuracy = accuracy_score( y_true , y_pred)\n",
    "    recall = recall_score( y_true , y_pred , average = \"macro\" )\n",
    "    precision=  precision_score( y_true ,y_pred , average = \"macro\" )\n",
    "    f1 = f1_score(y_true , y_pred , average = \"macro\")\n",
    "    average_score = ( accuracy + recall + precision+ f1 ) /4\n",
    "    return ( accuracy , recall , precision , f1 , average_score )"
   ]
  },
  {
   "cell_type": "markdown",
   "id": "d18b6aee-f76e-428e-8caa-0bff4066ae43",
   "metadata": {},
   "source": [
    "#### 6.2 defining the models and params"
   ]
  },
  {
   "cell_type": "code",
   "execution_count": 220,
   "id": "f72942a1-737f-4773-8c8d-83ad84c5fd7a",
   "metadata": {},
   "outputs": [],
   "source": [
    "models = {\n",
    "    \"LogisticRegression\": LogisticRegression(),\n",
    "    \"AdaBoostClassifier\": AdaBoostClassifier(),\n",
    "    \"XGBClassifier\": XGBClassifier(),\n",
    "    \"KNeighborsClassifier\": KNeighborsClassifier()\n",
    "}\n",
    "\n",
    "# Definimos los hiperparámetros para cada modelo\n",
    "models_params = {\n",
    "    \"LogisticRegression\": {\n",
    "        'C': [0.1, 1],\n",
    "        'solver': ['liblinear', 'saga'],  # Agrega solver para compatibilidad\n",
    "        'penalty': ['l1', 'l2'],\n",
    "        'max_iter': [200, 500]\n",
    "    },\n",
    "    \"AdaBoostClassifier\": {\n",
    "        'n_estimators': [50, 100],\n",
    "        'learning_rate': [0.1, 0.5]  ,    \n",
    "        'algorithm': ['SAMME']  \n",
    "    },\n",
    "    \"XGBClassifier\": {\n",
    "        'n_estimators': [50, 100],\n",
    "        'learning_rate': [0.1, 0.2],\n",
    "        'max_depth': [5, 7]\n",
    "    },\n",
    "    \"KNeighborsClassifier\": {\n",
    "        'n_neighbors': [3, 5, 7 , 9 , 12],       # Número de vecinos\n",
    "        'weights': ['uniform', 'distance'],  # Peso de los puntos\n",
    "        'metric': ['euclidean', ] # Métrica de distancia\n",
    "    }\n",
    "}\n"
   ]
  },
  {
   "cell_type": "markdown",
   "id": "b52e640f-2edf-42f3-82db-f139bb75f81a",
   "metadata": {},
   "source": [
    "### 6.3 training the models"
   ]
  },
  {
   "cell_type": "code",
   "execution_count": 221,
   "id": "cf798b82-d1cf-41cb-a0a6-6f00adea8e4a",
   "metadata": {},
   "outputs": [
    {
     "name": "stdout",
     "output_type": "stream",
     "text": [
      "models perfomances\n",
      "model_name LogisticRegression\n",
      "perfomance in training set\n",
      "train_accuracy: 0.7434944237918215\n",
      "train_recall : 0.5416425797758888\n",
      "train_precision : 0.5730243526004472\n",
      "train_f1 : 0.5396173534408708\n",
      "train_average_score : 0.599444677402257\n",
      "----------------------------------------\n",
      "perfomance in test set\n",
      "test_accuracy : 0.7083333333333334\n",
      "test_recall : 0.48662206108547573\n",
      "test_precision : 0.48938820912124587\n",
      "test_f1 : 0.4779112765077677\n",
      "test_average_score : 0.5405637200119556\n",
      "========================================\n",
      "\n",
      "\n",
      "\n"
     ]
    },
    {
     "name": "stderr",
     "output_type": "stream",
     "text": [
      "C:\\ProgramData\\anaconda3\\envs\\myenv\\lib\\site-packages\\sklearn\\metrics\\_classification.py:1471: UndefinedMetricWarning: Precision is ill-defined and being set to 0.0 in labels with no predicted samples. Use `zero_division` parameter to control this behavior.\n",
      "  _warn_prf(average, modifier, msg_start, len(result))\n",
      "C:\\ProgramData\\anaconda3\\envs\\myenv\\lib\\site-packages\\sklearn\\metrics\\_classification.py:1471: UndefinedMetricWarning: Precision is ill-defined and being set to 0.0 in labels with no predicted samples. Use `zero_division` parameter to control this behavior.\n",
      "  _warn_prf(average, modifier, msg_start, len(result))\n"
     ]
    },
    {
     "name": "stdout",
     "output_type": "stream",
     "text": [
      "model_name AdaBoostClassifier\n",
      "perfomance in training set\n",
      "train_accuracy: 0.6854089219330854\n",
      "train_recall : 0.4657995324219639\n",
      "train_precision : 0.4611800907485539\n",
      "train_f1 : 0.45772497753921193\n",
      "train_average_score : 0.5175283806607038\n",
      "----------------------------------------\n",
      "perfomance in test set\n",
      "test_accuracy : 0.6541666666666667\n",
      "test_recall : 0.41471478795869043\n",
      "test_precision : 0.39770397356604253\n",
      "test_f1 : 0.39765270696084815\n",
      "test_average_score : 0.466059533788062\n",
      "========================================\n",
      "\n",
      "\n",
      "\n",
      "model_name XGBClassifier\n",
      "perfomance in training set\n",
      "train_accuracy: 0.854089219330855\n",
      "train_recall : 0.7637567517362991\n",
      "train_precision : 0.8590381002380021\n",
      "train_f1 : 0.7986614091325145\n",
      "train_average_score : 0.8188863701094178\n",
      "----------------------------------------\n",
      "perfomance in test set\n",
      "test_accuracy : 0.725\n",
      "test_recall : 0.5490380001014147\n",
      "test_precision : 0.6464945226917058\n",
      "test_f1 : 0.5722184337738424\n",
      "test_average_score : 0.6231877391417407\n",
      "========================================\n",
      "\n",
      "\n",
      "\n",
      "model_name KNeighborsClassifier\n",
      "perfomance in training set\n",
      "train_accuracy: 1.0\n",
      "train_recall : 1.0\n",
      "train_precision : 1.0\n",
      "train_f1 : 1.0\n",
      "train_average_score : 1.0\n",
      "----------------------------------------\n",
      "perfomance in test set\n",
      "test_accuracy : 0.5833333333333334\n",
      "test_recall : 0.32998777952436487\n",
      "test_precision : 0.4136981015588826\n",
      "test_f1 : 0.3345207956600362\n",
      "test_average_score : 0.4153850025191543\n",
      "========================================\n",
      "\n",
      "\n",
      "\n"
     ]
    }
   ],
   "source": [
    "model_and_score = []\n",
    "print(\"models perfomances\")\n",
    "for model_name , model in models.items():\n",
    "    params = models_params[model_name]\n",
    "    gs = GridSearchCV(model , params , cv = 3)\n",
    "\n",
    "    gs.fit(X_train , y_train)\n",
    "    model.set_params(**gs.best_params_)\n",
    "    \n",
    "    model.fit(X_train , y_train)\n",
    "\n",
    "    y_train_pred = model.predict(X_train)\n",
    "    y_test_pred = model.predict(X_test)\n",
    "    \n",
    "\n",
    "    train_accuracy , train_recall , train_precision , train_f1 , train_average_score = evaluate_model( y_train , y_train_pred )\n",
    "    test_accuracy ,  test_recall  , test_precision , test_f1 , test_average_score = evaluate_model(y_test,  y_test_pred)\n",
    "\n",
    "    print(f\"model_name {model_name}\")\n",
    "    print(f\"perfomance in training set\")\n",
    "    print(f\"train_accuracy: {train_accuracy}\")\n",
    "    print(f\"train_recall : {train_recall}\")\n",
    "    print(f\"train_precision : {train_precision}\")\n",
    "    print(f\"train_f1 : {train_f1}\")\n",
    "    print(f\"train_average_score : {train_average_score}\")\n",
    "    print(\"-\" * 40)\n",
    "    print(f\"perfomance in test set\")\n",
    "    print(f\"test_accuracy : {test_accuracy}\")\n",
    "    print(f\"test_recall : {test_recall}\")\n",
    "    print(f\"test_precision : {test_precision}\")\n",
    "    print(f\"test_f1 : {test_f1}\")\n",
    "    print(f\"test_average_score : {test_average_score}\")\n",
    "    print(\"=\"*40)\n",
    "    print(\"\\n\\n\")\n",
    "\n",
    "    model_and_score.append(\n",
    "        {\n",
    "            \"model_name\":model_name ,\n",
    "            \"test_accuracy\":test_accuracy, \n",
    "            \"test_recall\":test_recall, \n",
    "            \"test_precision\":test_precision , \n",
    "            \"test_f1\":test_f1 , \n",
    "            \"test_average_score\" :test_average_score \n",
    "        }\n",
    "        \n",
    "    )\n",
    "model_and_score_df = pd.DataFrame(model_and_score)"
   ]
  },
  {
   "cell_type": "markdown",
   "id": "9c04cb7b-8ffa-422e-b0ea-57e3d3dc1561",
   "metadata": {},
   "source": [
    "#### 7.0 chose the best model"
   ]
  },
  {
   "cell_type": "markdown",
   "id": "1c998e65-c013-4b62-98e4-b1cf6446b6a0",
   "metadata": {},
   "source": [
    "#### 7.1 chosing by accuracy"
   ]
  },
  {
   "cell_type": "code",
   "execution_count": 223,
   "id": "9300d86a-6ead-4a30-a122-c5ac37e9a268",
   "metadata": {},
   "outputs": [
    {
     "data": {
      "text/html": [
       "<div>\n",
       "<style scoped>\n",
       "    .dataframe tbody tr th:only-of-type {\n",
       "        vertical-align: middle;\n",
       "    }\n",
       "\n",
       "    .dataframe tbody tr th {\n",
       "        vertical-align: top;\n",
       "    }\n",
       "\n",
       "    .dataframe thead th {\n",
       "        text-align: right;\n",
       "    }\n",
       "</style>\n",
       "<table border=\"1\" class=\"dataframe\">\n",
       "  <thead>\n",
       "    <tr style=\"text-align: right;\">\n",
       "      <th></th>\n",
       "      <th>model_name</th>\n",
       "      <th>test_accuracy</th>\n",
       "      <th>test_recall</th>\n",
       "      <th>test_precision</th>\n",
       "      <th>test_f1</th>\n",
       "      <th>test_average_score</th>\n",
       "    </tr>\n",
       "  </thead>\n",
       "  <tbody>\n",
       "    <tr>\n",
       "      <th>2</th>\n",
       "      <td>XGBClassifier</td>\n",
       "      <td>0.725000</td>\n",
       "      <td>0.549038</td>\n",
       "      <td>0.646495</td>\n",
       "      <td>0.572218</td>\n",
       "      <td>0.623188</td>\n",
       "    </tr>\n",
       "    <tr>\n",
       "      <th>0</th>\n",
       "      <td>LogisticRegression</td>\n",
       "      <td>0.708333</td>\n",
       "      <td>0.486622</td>\n",
       "      <td>0.489388</td>\n",
       "      <td>0.477911</td>\n",
       "      <td>0.540564</td>\n",
       "    </tr>\n",
       "    <tr>\n",
       "      <th>1</th>\n",
       "      <td>AdaBoostClassifier</td>\n",
       "      <td>0.654167</td>\n",
       "      <td>0.414715</td>\n",
       "      <td>0.397704</td>\n",
       "      <td>0.397653</td>\n",
       "      <td>0.466060</td>\n",
       "    </tr>\n",
       "    <tr>\n",
       "      <th>3</th>\n",
       "      <td>KNeighborsClassifier</td>\n",
       "      <td>0.583333</td>\n",
       "      <td>0.329988</td>\n",
       "      <td>0.413698</td>\n",
       "      <td>0.334521</td>\n",
       "      <td>0.415385</td>\n",
       "    </tr>\n",
       "  </tbody>\n",
       "</table>\n",
       "</div>"
      ],
      "text/plain": [
       "             model_name  test_accuracy  test_recall  test_precision   test_f1  \\\n",
       "2         XGBClassifier       0.725000     0.549038        0.646495  0.572218   \n",
       "0    LogisticRegression       0.708333     0.486622        0.489388  0.477911   \n",
       "1    AdaBoostClassifier       0.654167     0.414715        0.397704  0.397653   \n",
       "3  KNeighborsClassifier       0.583333     0.329988        0.413698  0.334521   \n",
       "\n",
       "   test_average_score  \n",
       "2            0.623188  \n",
       "0            0.540564  \n",
       "1            0.466060  \n",
       "3            0.415385  "
      ]
     },
     "execution_count": 223,
     "metadata": {},
     "output_type": "execute_result"
    }
   ],
   "source": [
    "model_and_score_df.sort_values(by = \"test_accuracy\" , ascending = False )"
   ]
  },
  {
   "cell_type": "markdown",
   "id": "d8e3bfe8-bb79-4a35-8a49-cc3dea164a6b",
   "metadata": {},
   "source": [
    "##### conclusion\n",
    "- the best model by accuracy was XGBClassifier , but due that there is not many data its performing is poor"
   ]
  },
  {
   "cell_type": "markdown",
   "id": "dca4a811-bc24-4a5c-b110-8133d7fb3ddf",
   "metadata": {},
   "source": [
    "<h1> END OF MODELING</h1>"
   ]
  }
 ],
 "metadata": {
  "kernelspec": {
   "display_name": "Python 3 (ipykernel)",
   "language": "python",
   "name": "python3"
  },
  "language_info": {
   "codemirror_mode": {
    "name": "ipython",
    "version": 3
   },
   "file_extension": ".py",
   "mimetype": "text/x-python",
   "name": "python",
   "nbconvert_exporter": "python",
   "pygments_lexer": "ipython3",
   "version": "3.8.19"
  }
 },
 "nbformat": 4,
 "nbformat_minor": 5
}
